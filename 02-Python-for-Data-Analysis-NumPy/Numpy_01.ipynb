{
 "cells": [
  {
   "cell_type": "code",
   "execution_count": 2,
   "id": "afraid-integer",
   "metadata": {},
   "outputs": [],
   "source": [
    "import numpy as np"
   ]
  },
  {
   "cell_type": "code",
   "execution_count": 2,
   "id": "surrounded-colon",
   "metadata": {},
   "outputs": [],
   "source": [
    "my_list = [1,2,3]"
   ]
  },
  {
   "cell_type": "code",
   "execution_count": 4,
   "id": "expired-perth",
   "metadata": {},
   "outputs": [
    {
     "name": "stdout",
     "output_type": "stream",
     "text": [
      "[1 2 3]\n"
     ]
    }
   ],
   "source": [
    "first_aray = np.array(my_list)\n",
    "print(first_aray)"
   ]
  },
  {
   "cell_type": "code",
   "execution_count": 7,
   "id": "hired-macedonia",
   "metadata": {},
   "outputs": [
    {
     "name": "stdout",
     "output_type": "stream",
     "text": [
      "[[1 2 3]\n",
      " [4 5 6]\n",
      " [7 8 9]]\n"
     ]
    }
   ],
   "source": [
    "D_List = [[1,2,3],[4,5,6],[7,8,9]]\n",
    "\n",
    "second_array = np.array(D_List)\n",
    "\n",
    "print(second_array)"
   ]
  },
  {
   "cell_type": "code",
   "execution_count": 9,
   "id": "billion-university",
   "metadata": {},
   "outputs": [
    {
     "name": "stdout",
     "output_type": "stream",
     "text": [
      "[0 2 4 6 8]\n"
     ]
    }
   ],
   "source": [
    "#range is used to create a set of number betweem two numbers\n",
    "\n",
    "\n",
    "\n",
    "A_3=np.arange(0,10,2)\n",
    "\n",
    "print(A_3)"
   ]
  },
  {
   "cell_type": "code",
   "execution_count": 13,
   "id": "compound-credit",
   "metadata": {},
   "outputs": [
    {
     "name": "stdout",
     "output_type": "stream",
     "text": [
      "[[0. 0. 0. 0. 0.]\n",
      " [0. 0. 0. 0. 0.]\n",
      " [0. 0. 0. 0. 0.]\n",
      " [0. 0. 0. 0. 0.]\n",
      " [0. 0. 0. 0. 0.]]\n",
      "[[1. 1. 1. 1. 1.]\n",
      " [1. 1. 1. 1. 1.]\n",
      " [1. 1. 1. 1. 1.]]\n"
     ]
    }
   ],
   "source": [
    "A_0 = np.zeros((5,5))\n",
    "\n",
    "print(A_0)\n",
    "\n",
    "A_1 = np.ones((3,5))\n",
    "\n",
    "print(A_1)\n"
   ]
  },
  {
   "cell_type": "code",
   "execution_count": 15,
   "id": "unlike-compensation",
   "metadata": {},
   "outputs": [
    {
     "name": "stdout",
     "output_type": "stream",
     "text": [
      "[ 0.          0.20408163  0.40816327  0.6122449   0.81632653  1.02040816\n",
      "  1.2244898   1.42857143  1.63265306  1.83673469  2.04081633  2.24489796\n",
      "  2.44897959  2.65306122  2.85714286  3.06122449  3.26530612  3.46938776\n",
      "  3.67346939  3.87755102  4.08163265  4.28571429  4.48979592  4.69387755\n",
      "  4.89795918  5.10204082  5.30612245  5.51020408  5.71428571  5.91836735\n",
      "  6.12244898  6.32653061  6.53061224  6.73469388  6.93877551  7.14285714\n",
      "  7.34693878  7.55102041  7.75510204  7.95918367  8.16326531  8.36734694\n",
      "  8.57142857  8.7755102   8.97959184  9.18367347  9.3877551   9.59183673\n",
      "  9.79591837 10.        ]\n"
     ]
    }
   ],
   "source": [
    "#Linspace used to divide the interval into specific no of points\n",
    "\n",
    "LS_1 = np.linspace(0,10,50) \n",
    "\n",
    "print(LS_1)"
   ]
  },
  {
   "cell_type": "code",
   "execution_count": 17,
   "id": "written-accordance",
   "metadata": {},
   "outputs": [
    {
     "data": {
      "text/plain": [
       "array([[1., 0., 0.],\n",
       "       [0., 1., 0.],\n",
       "       [0., 0., 1.]])"
      ]
     },
     "execution_count": 17,
     "metadata": {},
     "output_type": "execute_result"
    }
   ],
   "source": [
    "#identity matrix\n",
    "\n",
    "np.eye(3)"
   ]
  },
  {
   "cell_type": "code",
   "execution_count": 20,
   "id": "described-partnership",
   "metadata": {},
   "outputs": [
    {
     "name": "stdout",
     "output_type": "stream",
     "text": [
      "[0.29226763 0.12587126 0.35735296 0.49057701 0.56662184]\n",
      "[[[0.2072542  0.61995485]\n",
      "  [0.61914968 0.4457045 ]\n",
      "  [0.94017038 0.12862073]]\n",
      "\n",
      " [[0.5197813  0.34079804]\n",
      "  [0.48049929 0.46362614]\n",
      "  [0.12435357 0.02310907]]\n",
      "\n",
      " [[0.26430837 0.86946289]\n",
      "  [0.49987295 0.22138265]\n",
      "  [0.98251865 0.95021558]]\n",
      "\n",
      " [[0.63700327 0.02019014]\n",
      "  [0.97469384 0.39112652]\n",
      "  [0.55230175 0.30601353]]\n",
      "\n",
      " [[0.81886505 0.29510656]\n",
      "  [0.11191385 0.60541394]\n",
      "  [0.75009294 0.30731093]]]\n"
     ]
    }
   ],
   "source": [
    "#Random number\n",
    "\n",
    "R_1 = np.random.rand(5) # creates a 1D array of 5 random numbers ranging between 0 and 1\n",
    "\n",
    "print(R_1)\n",
    "\n",
    "R_2 = np.random.rand(5,3,2) # 3D\n",
    "\n",
    "print(R_2)"
   ]
  },
  {
   "cell_type": "code",
   "execution_count": 21,
   "id": "noble-commission",
   "metadata": {},
   "outputs": [
    {
     "name": "stdout",
     "output_type": "stream",
     "text": [
      "[ 0.17875752 -1.10644566 -0.93656702]\n"
     ]
    }
   ],
   "source": [
    "R_3_Gaussian = np.random.randn(3) # gives random number from the gaussian and std distribution\n",
    "\n",
    "print(R_3_Gaussian)"
   ]
  },
  {
   "cell_type": "code",
   "execution_count": 23,
   "id": "moderate-oxide",
   "metadata": {},
   "outputs": [
    {
     "name": "stdout",
     "output_type": "stream",
     "text": [
      "[ 0  1  2  3  4  5  6  7  8  9 10 11 12 13 14 15 16 17 18 19 20 21 22 23\n",
      " 24 25 26 27 28 29 30 31 32 33 34 35 36 37 38 39 40 41 42 43 44 45 46 47\n",
      " 48 49]\n"
     ]
    }
   ],
   "source": [
    "arr_1 = np.arange(0,50)\n",
    "\n",
    "print(arr_1)"
   ]
  },
  {
   "cell_type": "code",
   "execution_count": 25,
   "id": "continued-recall",
   "metadata": {},
   "outputs": [
    {
     "name": "stdout",
     "output_type": "stream",
     "text": [
      "[ 1 23 41 11 45 25 48 15 45 37]\n"
     ]
    }
   ],
   "source": [
    "ranarr_1 = np.random.randint(0,50,10)\n",
    "\n",
    "print(ranarr_1)"
   ]
  },
  {
   "cell_type": "code",
   "execution_count": 30,
   "id": "decimal-durham",
   "metadata": {},
   "outputs": [
    {
     "name": "stdout",
     "output_type": "stream",
     "text": [
      "[[ 0  1  2  3  4  5  6  7  8  9]\n",
      " [10 11 12 13 14 15 16 17 18 19]\n",
      " [20 21 22 23 24 25 26 27 28 29]\n",
      " [30 31 32 33 34 35 36 37 38 39]\n",
      " [40 41 42 43 44 45 46 47 48 49]]\n"
     ]
    }
   ],
   "source": [
    "# Reshaping array\n",
    "\n",
    "R_A = arr_1.reshape(5,10)\n",
    "\n",
    "print(R_A)"
   ]
  },
  {
   "cell_type": "code",
   "execution_count": 33,
   "id": "brief-antenna",
   "metadata": {},
   "outputs": [
    {
     "name": "stdout",
     "output_type": "stream",
     "text": [
      "49 0 49\n"
     ]
    }
   ],
   "source": [
    "max_R_A = R_A.max()\n",
    "min_R_A = R_A.min()\n",
    "index_R_A = R_A.argmax() # gives the index of maximum value\n",
    "\n",
    "\n",
    "print(max_R_A, min_R_A, index_R_A)"
   ]
  },
  {
   "cell_type": "code",
   "execution_count": 40,
   "id": "pleased-pocket",
   "metadata": {},
   "outputs": [
    {
     "name": "stdout",
     "output_type": "stream",
     "text": [
      "int64\n"
     ]
    },
    {
     "data": {
      "text/plain": [
       "(50,)"
      ]
     },
     "execution_count": 40,
     "metadata": {},
     "output_type": "execute_result"
    }
   ],
   "source": [
    "print(arr_1.dtype)\n",
    "\n",
    "arr_1.shape"
   ]
  },
  {
   "cell_type": "code",
   "execution_count": 3,
   "id": "sporting-portuguese",
   "metadata": {},
   "outputs": [
    {
     "name": "stdout",
     "output_type": "stream",
     "text": [
      "[ 0  1  2  3  4  5  6  7  8  9 10]\n"
     ]
    }
   ],
   "source": [
    "arr_2 = np.arange(0,11)\n",
    "\n",
    "print(arr_2)"
   ]
  },
  {
   "cell_type": "code",
   "execution_count": 4,
   "id": "considered-cover",
   "metadata": {},
   "outputs": [
    {
     "data": {
      "text/plain": [
       "8"
      ]
     },
     "execution_count": 4,
     "metadata": {},
     "output_type": "execute_result"
    }
   ],
   "source": [
    "#slicing of array\n",
    "\n",
    "arr_2[8]"
   ]
  },
  {
   "cell_type": "code",
   "execution_count": 8,
   "id": "north-times",
   "metadata": {},
   "outputs": [
    {
     "data": {
      "text/plain": [
       "array([0, 1, 2, 3, 4])"
      ]
     },
     "execution_count": 8,
     "metadata": {},
     "output_type": "execute_result"
    }
   ],
   "source": [
    "arr_2[0:5]\n"
   ]
  },
  {
   "cell_type": "code",
   "execution_count": 7,
   "id": "tender-address",
   "metadata": {},
   "outputs": [
    {
     "data": {
      "text/plain": [
       "array([0, 1, 2, 3, 4, 5])"
      ]
     },
     "execution_count": 7,
     "metadata": {},
     "output_type": "execute_result"
    }
   ],
   "source": [
    "arr_2[:6]"
   ]
  },
  {
   "cell_type": "code",
   "execution_count": 9,
   "id": "statutory-pierce",
   "metadata": {},
   "outputs": [
    {
     "name": "stdout",
     "output_type": "stream",
     "text": [
      "[100 100   2   3   4   5   6   7   8   9  10]\n"
     ]
    }
   ],
   "source": [
    "# Broadcast\n",
    "\n",
    "arr_2[0:2] = 100\n",
    "\n",
    "print(arr_2)"
   ]
  },
  {
   "cell_type": "code",
   "execution_count": 12,
   "id": "requested-meditation",
   "metadata": {},
   "outputs": [
    {
     "name": "stdout",
     "output_type": "stream",
     "text": [
      "[100 100   2   3   4   5   6   7   8   9  10]\n",
      "[ 1  1  2  3  4  5  6  7  8  9 10]\n"
     ]
    }
   ],
   "source": [
    "arr_2_copy = arr_2.copy() # copy is used if you don't want to affect the parent array\n",
    "\n",
    "arr_2_copy[0:2] = 1\n",
    "\n",
    "print(arr_2)\n",
    "print(arr_2_copy)"
   ]
  },
  {
   "cell_type": "code",
   "execution_count": 15,
   "id": "south-resolution",
   "metadata": {},
   "outputs": [
    {
     "name": "stdout",
     "output_type": "stream",
     "text": [
      "[[ 1  2  2]\n",
      " [20 40 60]\n",
      " [ 3  6  9]]\n"
     ]
    }
   ],
   "source": [
    "\n",
    "\n",
    "arr_2D = np.array([[1,2,2],[20,40,60],[3,6,9]])\n",
    "\n",
    "print(arr_2D)"
   ]
  },
  {
   "cell_type": "code",
   "execution_count": 18,
   "id": "domestic-mathematics",
   "metadata": {},
   "outputs": [
    {
     "name": "stdout",
     "output_type": "stream",
     "text": [
      "1\n",
      "9\n"
     ]
    }
   ],
   "source": [
    "#2D Indexing\n",
    "\n",
    "#double bracket format\n",
    "print(arr_2D[0][0])\n",
    "\n",
    "print(arr_2D[2][2])"
   ]
  },
  {
   "cell_type": "code",
   "execution_count": 19,
   "id": "differential-birthday",
   "metadata": {},
   "outputs": [
    {
     "name": "stdout",
     "output_type": "stream",
     "text": [
      "9\n"
     ]
    }
   ],
   "source": [
    "#single bracket notation\n",
    "print(arr_2D[2,2])"
   ]
  },
  {
   "cell_type": "code",
   "execution_count": 20,
   "id": "diagnostic-montgomery",
   "metadata": {},
   "outputs": [
    {
     "name": "stdout",
     "output_type": "stream",
     "text": [
      "[[ 2  2]\n",
      " [40 60]]\n"
     ]
    }
   ],
   "source": [
    "#Slicing rows and column\n",
    "print(arr_2D[:2,1:]) #before the comma is row and after the comma is the column"
   ]
  },
  {
   "cell_type": "code",
   "execution_count": 25,
   "id": "sufficient-exclusive",
   "metadata": {},
   "outputs": [
    {
     "name": "stdout",
     "output_type": "stream",
     "text": [
      "[[20 40]\n",
      " [ 3  6]]\n"
     ]
    }
   ],
   "source": [
    "print(arr_2D[1:,:2])"
   ]
  },
  {
   "cell_type": "code",
   "execution_count": 27,
   "id": "neural-privilege",
   "metadata": {},
   "outputs": [
    {
     "name": "stdout",
     "output_type": "stream",
     "text": [
      "[ 1  2  3  4  5  6  7  8  9 10]\n"
     ]
    }
   ],
   "source": [
    "# Conditional selection\n",
    "\n",
    "arr_3 = np.arange(1,11)\n",
    "print(arr_3)"
   ]
  },
  {
   "cell_type": "code",
   "execution_count": 28,
   "id": "unauthorized-cotton",
   "metadata": {},
   "outputs": [
    {
     "name": "stdout",
     "output_type": "stream",
     "text": [
      "[False False False False False  True  True  True  True  True]\n"
     ]
    }
   ],
   "source": [
    "bool_val_arr = arr_3 > 5\n",
    "\n",
    "print(bool_val_arr)"
   ]
  },
  {
   "cell_type": "code",
   "execution_count": 29,
   "id": "manufactured-sheet",
   "metadata": {},
   "outputs": [
    {
     "data": {
      "text/plain": [
       "array([ 6,  7,  8,  9, 10])"
      ]
     },
     "execution_count": 29,
     "metadata": {},
     "output_type": "execute_result"
    }
   ],
   "source": [
    "arr_3[bool_val_arr]"
   ]
  },
  {
   "cell_type": "code",
   "execution_count": 30,
   "id": "narrow-insured",
   "metadata": {},
   "outputs": [
    {
     "data": {
      "text/plain": [
       "array([ 7,  8,  9, 10])"
      ]
     },
     "execution_count": 30,
     "metadata": {},
     "output_type": "execute_result"
    }
   ],
   "source": [
    "arr_3[arr_3 > 6]"
   ]
  },
  {
   "cell_type": "code",
   "execution_count": 32,
   "id": "psychological-webster",
   "metadata": {},
   "outputs": [
    {
     "name": "stdout",
     "output_type": "stream",
     "text": [
      "[[ 0  1  2  3  4  5  6  7  8  9]\n",
      " [10 11 12 13 14 15 16 17 18 19]\n",
      " [20 21 22 23 24 25 26 27 28 29]\n",
      " [30 31 32 33 34 35 36 37 38 39]\n",
      " [40 41 42 43 44 45 46 47 48 49]]\n"
     ]
    }
   ],
   "source": [
    "#Home Practice \n",
    "arr_2d = np.arange(50).reshape(5 , 10)\n",
    "print(arr_2d)"
   ]
  },
  {
   "cell_type": "code",
   "execution_count": 37,
   "id": "vocational-petroleum",
   "metadata": {},
   "outputs": [
    {
     "name": "stdout",
     "output_type": "stream",
     "text": [
      "[[21 22 23]\n",
      " [31 32 33]]\n"
     ]
    }
   ],
   "source": [
    "print(arr_2d[2:4,1:4])"
   ]
  },
  {
   "cell_type": "code",
   "execution_count": 38,
   "id": "sublime-black",
   "metadata": {},
   "outputs": [
    {
     "name": "stdout",
     "output_type": "stream",
     "text": [
      "[ 0  1  2  3  4  5  6  7  8  9 10]\n"
     ]
    }
   ],
   "source": [
    "# Numpy Operations\n",
    "\n",
    "arr1 = np.arange(0,11)\n",
    "print(arr1)"
   ]
  },
  {
   "cell_type": "code",
   "execution_count": 39,
   "id": "egyptian-glass",
   "metadata": {},
   "outputs": [
    {
     "data": {
      "text/plain": [
       "array([ 2,  3,  4,  5,  6,  7,  8,  9, 10, 11, 12])"
      ]
     },
     "execution_count": 39,
     "metadata": {},
     "output_type": "execute_result"
    }
   ],
   "source": [
    "arr1 +2 #adds 2 to each element in the array"
   ]
  },
  {
   "cell_type": "code",
   "execution_count": 40,
   "id": "celtic-congo",
   "metadata": {},
   "outputs": [
    {
     "data": {
      "text/plain": [
       "array([0.        , 1.        , 1.41421356, 1.73205081, 2.        ,\n",
       "       2.23606798, 2.44948974, 2.64575131, 2.82842712, 3.        ,\n",
       "       3.16227766])"
      ]
     },
     "execution_count": 40,
     "metadata": {},
     "output_type": "execute_result"
    }
   ],
   "source": [
    "np.sqrt(arr1)"
   ]
  },
  {
   "cell_type": "code",
   "execution_count": null,
   "id": "continued-perry",
   "metadata": {},
   "outputs": [],
   "source": []
  }
 ],
 "metadata": {
  "kernelspec": {
   "display_name": "Python 3",
   "language": "python",
   "name": "python3"
  },
  "language_info": {
   "codemirror_mode": {
    "name": "ipython",
    "version": 3
   },
   "file_extension": ".py",
   "mimetype": "text/x-python",
   "name": "python",
   "nbconvert_exporter": "python",
   "pygments_lexer": "ipython3",
   "version": "3.8.5"
  }
 },
 "nbformat": 4,
 "nbformat_minor": 5
}
