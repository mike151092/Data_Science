{
 "cells": [
  {
   "cell_type": "code",
   "execution_count": 1,
   "id": "patent-texture",
   "metadata": {},
   "outputs": [
    {
     "data": {
      "text/plain": [
       "2"
      ]
     },
     "execution_count": 1,
     "metadata": {},
     "output_type": "execute_result"
    }
   ],
   "source": [
    "1 + 1\n"
   ]
  },
  {
   "cell_type": "code",
   "execution_count": 2,
   "id": "frequent-toronto",
   "metadata": {},
   "outputs": [
    {
     "data": {
      "text/plain": [
       "3"
      ]
     },
     "execution_count": 2,
     "metadata": {},
     "output_type": "execute_result"
    }
   ],
   "source": [
    "1  *3 "
   ]
  },
  {
   "cell_type": "code",
   "execution_count": 3,
   "id": "exciting-floating",
   "metadata": {},
   "outputs": [
    {
     "data": {
      "text/plain": [
       "0.5"
      ]
     },
     "execution_count": 3,
     "metadata": {},
     "output_type": "execute_result"
    }
   ],
   "source": [
    "1/2"
   ]
  },
  {
   "cell_type": "code",
   "execution_count": 4,
   "id": "wireless-gnome",
   "metadata": {},
   "outputs": [
    {
     "data": {
      "text/plain": [
       "16"
      ]
     },
     "execution_count": 4,
     "metadata": {},
     "output_type": "execute_result"
    }
   ],
   "source": [
    "2**4"
   ]
  },
  {
   "cell_type": "code",
   "execution_count": 5,
   "id": "residential-vehicle",
   "metadata": {},
   "outputs": [],
   "source": [
    "# mod function"
   ]
  },
  {
   "cell_type": "code",
   "execution_count": 6,
   "id": "velvet-occurrence",
   "metadata": {},
   "outputs": [
    {
     "data": {
      "text/plain": [
       "0"
      ]
     },
     "execution_count": 6,
     "metadata": {},
     "output_type": "execute_result"
    }
   ],
   "source": [
    "4%2\n"
   ]
  },
  {
   "cell_type": "code",
   "execution_count": 7,
   "id": "willing-december",
   "metadata": {},
   "outputs": [
    {
     "data": {
      "text/plain": [
       "1"
      ]
     },
     "execution_count": 7,
     "metadata": {},
     "output_type": "execute_result"
    }
   ],
   "source": [
    "5%2\n"
   ]
  },
  {
   "cell_type": "code",
   "execution_count": 8,
   "id": "eleven-omega",
   "metadata": {},
   "outputs": [],
   "source": [
    "x = 2 \n",
    "y = 5"
   ]
  },
  {
   "cell_type": "code",
   "execution_count": 10,
   "id": "seeing-hindu",
   "metadata": {},
   "outputs": [
    {
     "data": {
      "text/plain": [
       "7"
      ]
     },
     "execution_count": 10,
     "metadata": {},
     "output_type": "execute_result"
    }
   ],
   "source": [
    "x +y"
   ]
  },
  {
   "cell_type": "code",
   "execution_count": 12,
   "id": "forty-measure",
   "metadata": {},
   "outputs": [],
   "source": [
    "number = 15\n",
    "name = 'Michael'\n",
    "\n"
   ]
  },
  {
   "cell_type": "code",
   "execution_count": 16,
   "id": "organized-baltimore",
   "metadata": {},
   "outputs": [
    {
     "name": "stdout",
     "output_type": "stream",
     "text": [
      "My name is Michael and i was born on 15th of October\n",
      "My name is Michael and i was born on 15th of October\n",
      "My name is Michael and i was born on 15th of October\n"
     ]
    }
   ],
   "source": [
    "print(f'My name is {name} and i was born on {number}th of October')\n",
    "print('My name is {} and i was born on {}th of October'.format(name,number))\n",
    "print('My name is {one} and i was born on {two}th of October'.format(one=name,two=number))"
   ]
  },
  {
   "cell_type": "code",
   "execution_count": 17,
   "id": "temporal-storage",
   "metadata": {},
   "outputs": [
    {
     "name": "stdout",
     "output_type": "stream",
     "text": [
      "[1, 2, 3]\n"
     ]
    }
   ],
   "source": [
    "# List\n",
    "a = [1,2,3]\n",
    "print(a)"
   ]
  },
  {
   "cell_type": "code",
   "execution_count": 22,
   "id": "unusual-funeral",
   "metadata": {},
   "outputs": [],
   "source": [
    "a.append(3)\n"
   ]
  },
  {
   "cell_type": "code",
   "execution_count": 23,
   "id": "automotive-thanks",
   "metadata": {},
   "outputs": [
    {
     "name": "stdout",
     "output_type": "stream",
     "text": [
      "[1, 2, 3, '3', 3, 3]\n"
     ]
    }
   ],
   "source": [
    "print(a)"
   ]
  },
  {
   "cell_type": "code",
   "execution_count": 25,
   "id": "steady-kennedy",
   "metadata": {},
   "outputs": [],
   "source": [
    "a.remove('3')"
   ]
  },
  {
   "cell_type": "code",
   "execution_count": 26,
   "id": "worst-format",
   "metadata": {},
   "outputs": [
    {
     "name": "stdout",
     "output_type": "stream",
     "text": [
      "[1, 2, 3, 3, 3]\n"
     ]
    }
   ],
   "source": [
    "print(a)"
   ]
  },
  {
   "cell_type": "code",
   "execution_count": 29,
   "id": "driven-while",
   "metadata": {},
   "outputs": [
    {
     "data": {
      "text/plain": [
       "3"
      ]
     },
     "execution_count": 29,
     "metadata": {},
     "output_type": "execute_result"
    }
   ],
   "source": [
    "a.pop()"
   ]
  },
  {
   "cell_type": "code",
   "execution_count": 30,
   "id": "occupied-contract",
   "metadata": {},
   "outputs": [
    {
     "name": "stdout",
     "output_type": "stream",
     "text": [
      "[1, 2, 3, 3]\n"
     ]
    }
   ],
   "source": [
    "print(a)"
   ]
  },
  {
   "cell_type": "code",
   "execution_count": 31,
   "id": "surface-guess",
   "metadata": {},
   "outputs": [
    {
     "data": {
      "text/plain": [
       "1"
      ]
     },
     "execution_count": 31,
     "metadata": {},
     "output_type": "execute_result"
    }
   ],
   "source": [
    "a[0]"
   ]
  },
  {
   "cell_type": "code",
   "execution_count": 32,
   "id": "acceptable-promotion",
   "metadata": {},
   "outputs": [],
   "source": [
    "a[0] = 2\n"
   ]
  },
  {
   "cell_type": "code",
   "execution_count": 33,
   "id": "fatty-heart",
   "metadata": {},
   "outputs": [
    {
     "name": "stdout",
     "output_type": "stream",
     "text": [
      "[2, 2, 3, 3]\n"
     ]
    }
   ],
   "source": [
    "print(a)"
   ]
  },
  {
   "cell_type": "code",
   "execution_count": 34,
   "id": "surgical-offer",
   "metadata": {},
   "outputs": [],
   "source": [
    "##Dictionary\n",
    "d = {'key1':[1,2,3],'key2':'mike'}"
   ]
  },
  {
   "cell_type": "code",
   "execution_count": 35,
   "id": "consolidated-tomorrow",
   "metadata": {},
   "outputs": [
    {
     "name": "stdout",
     "output_type": "stream",
     "text": [
      "{'key1': [1, 2, 3], 'key2': 'mike'}\n"
     ]
    }
   ],
   "source": [
    "print(d)"
   ]
  },
  {
   "cell_type": "code",
   "execution_count": 37,
   "id": "biological-prairie",
   "metadata": {},
   "outputs": [
    {
     "name": "stdout",
     "output_type": "stream",
     "text": [
      "1\n"
     ]
    }
   ],
   "source": [
    "print(d['key1'][0])"
   ]
  },
  {
   "cell_type": "code",
   "execution_count": 38,
   "id": "overall-maker",
   "metadata": {},
   "outputs": [],
   "source": [
    "#Tuples (cannot edit tuples)\n",
    "my_tuple = (1,2,3)"
   ]
  },
  {
   "cell_type": "code",
   "execution_count": 39,
   "id": "lightweight-nickel",
   "metadata": {},
   "outputs": [
    {
     "name": "stdout",
     "output_type": "stream",
     "text": [
      "1\n"
     ]
    }
   ],
   "source": [
    "print(my_tuple[0])"
   ]
  },
  {
   "cell_type": "code",
   "execution_count": 40,
   "id": "horizontal-woman",
   "metadata": {},
   "outputs": [],
   "source": [
    "##Sets (collection of uinque elemeents)\n",
    "a = {1,2,3,3,3,4}"
   ]
  },
  {
   "cell_type": "code",
   "execution_count": 41,
   "id": "public-address",
   "metadata": {},
   "outputs": [
    {
     "name": "stdout",
     "output_type": "stream",
     "text": [
      "{1, 2, 3, 4}\n"
     ]
    }
   ],
   "source": [
    "print(a)"
   ]
  },
  {
   "cell_type": "code",
   "execution_count": 44,
   "id": "referenced-auction",
   "metadata": {},
   "outputs": [
    {
     "data": {
      "text/plain": [
       "True"
      ]
     },
     "execution_count": 44,
     "metadata": {},
     "output_type": "execute_result"
    }
   ],
   "source": [
    "'hi' == 'hi'"
   ]
  },
  {
   "cell_type": "code",
   "execution_count": 45,
   "id": "level-canyon",
   "metadata": {},
   "outputs": [
    {
     "name": "stdout",
     "output_type": "stream",
     "text": [
      "Greater\n"
     ]
    }
   ],
   "source": [
    "##if elif else \n",
    "if 20 >12:\n",
    "    print('Greater')"
   ]
  },
  {
   "cell_type": "code",
   "execution_count": 46,
   "id": "diagnostic-uncle",
   "metadata": {},
   "outputs": [
    {
     "name": "stdout",
     "output_type": "stream",
     "text": [
      "1\n",
      "2\n",
      "3\n",
      "4\n"
     ]
    }
   ],
   "source": [
    "#for loops(in sequence)\n",
    "val = [1,2,3,4]\n",
    "\n",
    "for value in val:\n",
    "    print(value)"
   ]
  },
  {
   "cell_type": "code",
   "execution_count": 50,
   "id": "significant-criticism",
   "metadata": {},
   "outputs": [
    {
     "name": "stdout",
     "output_type": "stream",
     "text": [
      "i is:1\n",
      "i is:2\n",
      "i is:3\n",
      "i is:4\n"
     ]
    }
   ],
   "source": [
    "i = 1\n",
    "\n",
    "while i < 5:\n",
    "    print(f'i is:{i}')\n",
    "    i = i +1 #avoiding infinte loop"
   ]
  },
  {
   "cell_type": "code",
   "execution_count": 51,
   "id": "provincial-bailey",
   "metadata": {},
   "outputs": [
    {
     "name": "stdout",
     "output_type": "stream",
     "text": [
      "0\n",
      "1\n",
      "2\n",
      "3\n",
      "4\n"
     ]
    }
   ],
   "source": [
    "#range\n",
    "for val in range(0,5):\n",
    "    print(val)"
   ]
  },
  {
   "cell_type": "code",
   "execution_count": 55,
   "id": "compressed-fleet",
   "metadata": {},
   "outputs": [
    {
     "name": "stdout",
     "output_type": "stream",
     "text": [
      "[1, 4, 9, 16]\n",
      "[1, 4, 9, 16]\n"
     ]
    }
   ],
   "source": [
    "# List comprehension\n",
    "value = [1,2,3,4]\n",
    "\n",
    "output = []\n",
    "\n",
    "for num in value:\n",
    "    output.append(num**2)\n",
    "    \n",
    "print(output)\n",
    "\n",
    "\n",
    "out = [num**2 for num in value]\n",
    "\n",
    "print(out)"
   ]
  },
  {
   "cell_type": "code",
   "execution_count": 56,
   "id": "indirect-knight",
   "metadata": {},
   "outputs": [],
   "source": [
    "##Function\n",
    "def my_func(param1):\n",
    "    print(param1)\n"
   ]
  },
  {
   "cell_type": "code",
   "execution_count": 57,
   "id": "african-programmer",
   "metadata": {},
   "outputs": [
    {
     "name": "stdout",
     "output_type": "stream",
     "text": [
      "mikey\n"
     ]
    }
   ],
   "source": [
    "my_func('mikey')"
   ]
  },
  {
   "cell_type": "code",
   "execution_count": 61,
   "id": "silent-talent",
   "metadata": {},
   "outputs": [
    {
     "name": "stdout",
     "output_type": "stream",
     "text": [
      "110\n",
      "[4, 4, 10, 12]\n"
     ]
    }
   ],
   "source": [
    "def times2(var):\n",
    "    return var*2\n",
    "print(times2(55))\n",
    "\n",
    "\n",
    "##mapping\n",
    "\n",
    "seq = [2,2,5,6]\n",
    "\n",
    "outer= list(map(times2,seq))\n",
    "\n",
    "print(outer)"
   ]
  },
  {
   "cell_type": "code",
   "execution_count": 70,
   "id": "described-childhood",
   "metadata": {},
   "outputs": [
    {
     "name": "stdout",
     "output_type": "stream",
     "text": [
      "[2, 2, 5, 6]\n"
     ]
    }
   ],
   "source": [
    "##Fliter\n",
    "\n",
    "outer2 = list(filter(times2,seq))\n",
    "print(outer2)"
   ]
  },
  {
   "cell_type": "code",
   "execution_count": 72,
   "id": "front-theology",
   "metadata": {},
   "outputs": [
    {
     "name": "stdout",
     "output_type": "stream",
     "text": [
      "my name is  mike\n",
      "MY NAME IS  MIKE\n",
      "['My', 'name', 'is', 'mike']\n"
     ]
    }
   ],
   "source": [
    "##String Built in func\n",
    "\n",
    "m = 'My name is  mike'\n",
    "\n",
    "print(m.lower())\n",
    "print(m.upper())\n",
    "print(m.split())"
   ]
  },
  {
   "cell_type": "code",
   "execution_count": 74,
   "id": "functional-yellow",
   "metadata": {},
   "outputs": [
    {
     "name": "stdout",
     "output_type": "stream",
     "text": [
      "1\n",
      "3\n",
      "5\n"
     ]
    }
   ],
   "source": [
    "## Tuple unpacking\n",
    "\n",
    "x = [(1,2),(3,4),(5,6)]\n",
    "\n",
    "for (a,b) in x:\n",
    "    print(a)"
   ]
  },
  {
   "cell_type": "code",
   "execution_count": 1,
   "id": "italic-income",
   "metadata": {},
   "outputs": [],
   "source": [
    "def sum_double(a, b):\n",
    "  if a==b:\n",
    "    return (a**2 + b**2)\n",
    "  else:\n",
    "    return (a+b)\n"
   ]
  },
  {
   "cell_type": "code",
   "execution_count": 2,
   "id": "structured-hungary",
   "metadata": {},
   "outputs": [
    {
     "data": {
      "text/plain": [
       "18"
      ]
     },
     "execution_count": 2,
     "metadata": {},
     "output_type": "execute_result"
    }
   ],
   "source": [
    "sum_double(3,3)"
   ]
  },
  {
   "cell_type": "code",
   "execution_count": null,
   "id": "royal-friday",
   "metadata": {},
   "outputs": [],
   "source": []
  }
 ],
 "metadata": {
  "kernelspec": {
   "display_name": "Python 3",
   "language": "python",
   "name": "python3"
  },
  "language_info": {
   "codemirror_mode": {
    "name": "ipython",
    "version": 3
   },
   "file_extension": ".py",
   "mimetype": "text/x-python",
   "name": "python",
   "nbconvert_exporter": "python",
   "pygments_lexer": "ipython3",
   "version": "3.8.5"
  }
 },
 "nbformat": 4,
 "nbformat_minor": 5
}
